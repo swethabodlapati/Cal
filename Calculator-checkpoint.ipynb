{
 "cells": [
  {
   "cell_type": "code",
   "execution_count": 10,
   "metadata": {},
   "outputs": [
    {
     "ename": "NameError",
     "evalue": "name 'tkinter' is not defined",
     "output_type": "error",
     "traceback": [
      "\u001b[1;31m---------------------------------------------------------------------------\u001b[0m",
      "\u001b[1;31mNameError\u001b[0m                                 Traceback (most recent call last)",
      "\u001b[1;32m<ipython-input-10-cee5662e2877>\u001b[0m in \u001b[0;36m<module>\u001b[1;34m\u001b[0m\n\u001b[0;32m     18\u001b[0m \u001b[0mtextinput\u001b[0m\u001b[1;33m=\u001b[0m\u001b[0mStringVar\u001b[0m\u001b[1;33m(\u001b[0m\u001b[1;33m)\u001b[0m\u001b[1;33m\u001b[0m\u001b[1;33m\u001b[0m\u001b[0m\n\u001b[0;32m     19\u001b[0m \u001b[0mop\u001b[0m\u001b[1;33m=\u001b[0m\u001b[1;34m\"\"\u001b[0m\u001b[1;33m\u001b[0m\u001b[1;33m\u001b[0m\u001b[0m\n\u001b[1;32m---> 20\u001b[1;33m \u001b[0mentry\u001b[0m\u001b[1;33m=\u001b[0m\u001b[0mtkinter\u001b[0m\u001b[1;33m.\u001b[0m\u001b[0mEntry\u001b[0m\u001b[1;33m(\u001b[0m\u001b[0mwindows\u001b[0m\u001b[1;33m,\u001b[0m\u001b[0mbd\u001b[0m\u001b[1;33m=\u001b[0m\u001b[1;36m30\u001b[0m\u001b[1;33m,\u001b[0m\u001b[0minsertwidth\u001b[0m\u001b[1;33m=\u001b[0m\u001b[1;36m10\u001b[0m\u001b[1;33m,\u001b[0m\u001b[0mjustify\u001b[0m\u001b[1;33m=\u001b[0m\u001b[1;34m\"right\"\u001b[0m\u001b[1;33m,\u001b[0m\u001b[0mtextvariable\u001b[0m\u001b[1;33m=\u001b[0m\u001b[0mtextinput\u001b[0m\u001b[1;33m)\u001b[0m\u001b[1;33m.\u001b[0m\u001b[0mgrid\u001b[0m\u001b[1;33m(\u001b[0m\u001b[0mcolumnspan\u001b[0m\u001b[1;33m=\u001b[0m\u001b[1;36m4\u001b[0m\u001b[1;33m)\u001b[0m\u001b[1;33m\u001b[0m\u001b[1;33m\u001b[0m\u001b[0m\n\u001b[0m\u001b[0;32m     21\u001b[0m \u001b[0mbt\u001b[0m\u001b[1;33m=\u001b[0m\u001b[0mButton\u001b[0m\u001b[1;33m(\u001b[0m\u001b[0mwindows\u001b[0m\u001b[1;33m,\u001b[0m\u001b[0mpadx\u001b[0m\u001b[1;33m=\u001b[0m\u001b[1;36m8\u001b[0m\u001b[1;33m,\u001b[0m\u001b[0mbd\u001b[0m\u001b[1;33m=\u001b[0m\u001b[1;36m4\u001b[0m\u001b[1;33m,\u001b[0m\u001b[0mtext\u001b[0m\u001b[1;33m=\u001b[0m\u001b[1;34m\"7\"\u001b[0m\u001b[1;33m,\u001b[0m\u001b[0mcommand\u001b[0m\u001b[1;33m=\u001b[0m\u001b[1;32mlambda\u001b[0m\u001b[1;33m:\u001b[0m\u001b[0mclick\u001b[0m\u001b[1;33m(\u001b[0m\u001b[1;36m7\u001b[0m\u001b[1;33m)\u001b[0m\u001b[1;33m)\u001b[0m\u001b[1;33m.\u001b[0m\u001b[0mgrid\u001b[0m\u001b[1;33m(\u001b[0m\u001b[0mrow\u001b[0m\u001b[1;33m=\u001b[0m\u001b[1;36m1\u001b[0m\u001b[1;33m,\u001b[0m\u001b[0mcolumn\u001b[0m\u001b[1;33m=\u001b[0m\u001b[1;36m0\u001b[0m\u001b[1;33m)\u001b[0m\u001b[1;33m\u001b[0m\u001b[1;33m\u001b[0m\u001b[0m\n\u001b[0;32m     22\u001b[0m \u001b[0mbt\u001b[0m\u001b[1;33m=\u001b[0m\u001b[0mtkinter\u001b[0m\u001b[1;33m.\u001b[0m\u001b[0mButton\u001b[0m\u001b[1;33m(\u001b[0m\u001b[0mwindows\u001b[0m\u001b[1;33m,\u001b[0m\u001b[0mpadx\u001b[0m\u001b[1;33m=\u001b[0m\u001b[1;36m8\u001b[0m\u001b[1;33m,\u001b[0m\u001b[0mbd\u001b[0m\u001b[1;33m=\u001b[0m\u001b[1;36m4\u001b[0m\u001b[1;33m,\u001b[0m\u001b[0mtext\u001b[0m\u001b[1;33m=\u001b[0m\u001b[1;34m\"8\"\u001b[0m\u001b[1;33m,\u001b[0m\u001b[0mcommand\u001b[0m\u001b[1;33m=\u001b[0m\u001b[1;32mlambda\u001b[0m\u001b[1;33m:\u001b[0m\u001b[0mclick\u001b[0m\u001b[1;33m(\u001b[0m\u001b[1;36m8\u001b[0m\u001b[1;33m)\u001b[0m\u001b[1;33m)\u001b[0m\u001b[1;33m.\u001b[0m\u001b[0mgrid\u001b[0m\u001b[1;33m(\u001b[0m\u001b[0mrow\u001b[0m\u001b[1;33m=\u001b[0m\u001b[1;36m1\u001b[0m\u001b[1;33m,\u001b[0m\u001b[0mcolumn\u001b[0m\u001b[1;33m=\u001b[0m\u001b[1;36m1\u001b[0m\u001b[1;33m)\u001b[0m\u001b[1;33m\u001b[0m\u001b[1;33m\u001b[0m\u001b[0m\n",
      "\u001b[1;31mNameError\u001b[0m: name 'tkinter' is not defined"
     ]
    }
   ],
   "source": [
    "from tkinter import *\n",
    "def click(num):\n",
    "    global op\n",
    "    if num==\"C\":\n",
    "        textinput.set(\"\")\n",
    "    elif num==\"=\":\n",
    "        su=str(eval(op))\n",
    "        textinput.set(su)\n",
    "    else:\n",
    "        op=op+str(num)\n",
    "        textinput.set(op)\n",
    "\n",
    "    \n",
    "windows=Tk()\n",
    "windows.title(\"Calculator\")\n",
    "label=tkinter.Label(windows,text=\"Calculator\",font=(\"Arial Bold\",50),bg=\"black\",fg=\"white\")\n",
    "windows.configure(background=\"black\")\n",
    "textinput=StringVar()\n",
    "op=\"\"\n",
    "entry=tkinter.Entry(windows,bd=30,insertwidth=10,justify=\"right\",textvariable=textinput).grid(columnspan=4)\n",
    "bt=Button(windows,padx=8,bd=4,text=\"7\",command=lambda:click(7)).grid(row=1,column=0)\n",
    "bt=tkinter.Button(windows,padx=8,bd=4,text=\"8\",command=lambda:click(8)).grid(row=1,column=1)\n",
    "bt=Button(windows,padx=8,bd=4,text=\"9\",command=lambda:click(9)).grid(row=1,column=2)\n",
    "bt=tkinter.Button(windows,padx=8,bd=4,text=\"+\",command=lambda:click(\"+\")).grid(row=1,column=3)\n",
    "bt=Button(windows,padx=8,bd=4,text=\"4\",command=lambda:click(4)).grid(row=2,column=0)\n",
    "bt=tkinter.Button(windows,padx=8,bd=4,text=\"5\",command=lambda:click(5)).grid(row=2,column=1)\n",
    "bt=Button(windows,padx=8,bd=4,text=\"6\",command=lambda:click(6)).grid(row=2,column=2)\n",
    "bt=tkinter.Button(windows,padx=8,bd=4,text=\"-\",command=lambda:click(\"-\")).grid(row=2,column=3)\n",
    "bt=Button(windows,padx=8,bd=4,text=\"1\",command=lambda:click(1)).grid(row=3,column=0)\n",
    "bt=tkinter.Button(windows,padx=8,bd=4,text=\"2\",command=lambda:click(2)).grid(row=3,column=1)\n",
    "bt=Button(windows,padx=8,bd=4,text=\"3\",command=lambda:click(3)).grid(row=3,column=2)\n",
    "bt=tkinter.Button(windows,padx=8,bd=4,text=\"*\",command=lambda:click(\"*\")).grid(row=3,column=3)\n",
    "bt=Button(windows,padx=8,bd=4,text=\"C\",command=lambda:click(\"C\")).grid(row=4,column=0)\n",
    "bt=tkinter.Button(windows,padx=8,bd=4,text=\"0\",command=lambda:click(0)).grid(row=4,column=1)\n",
    "bt=Button(windows,padx=8,bd=4,text=\"=\",command=lambda:click(\"=\")).grid(row=4,column=2)\n",
    "bt=tkinter.Button(windows,padx=8,bd=4,text=\"/\",command=lambda:click(\"/\")).grid(row=4,column=3)\n",
    "\n",
    "windows.mainloop()"
   ]
  },
  {
   "cell_type": "code",
   "execution_count": null,
   "metadata": {},
   "outputs": [],
   "source": []
  },
  {
   "cell_type": "code",
   "execution_count": null,
   "metadata": {},
   "outputs": [],
   "source": []
  },
  {
   "cell_type": "code",
   "execution_count": null,
   "metadata": {},
   "outputs": [],
   "source": []
  },
  {
   "cell_type": "code",
   "execution_count": null,
   "metadata": {},
   "outputs": [],
   "source": []
  },
  {
   "cell_type": "code",
   "execution_count": null,
   "metadata": {},
   "outputs": [],
   "source": []
  },
  {
   "cell_type": "code",
   "execution_count": null,
   "metadata": {},
   "outputs": [],
   "source": []
  }
 ],
 "metadata": {
  "kernelspec": {
   "display_name": "Python 3",
   "language": "python",
   "name": "python3"
  },
  "language_info": {
   "codemirror_mode": {
    "name": "ipython",
    "version": 3
   },
   "file_extension": ".py",
   "mimetype": "text/x-python",
   "name": "python",
   "nbconvert_exporter": "python",
   "pygments_lexer": "ipython3",
   "version": "3.7.6"
  }
 },
 "nbformat": 4,
 "nbformat_minor": 4
}
