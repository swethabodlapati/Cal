{
 "cells": [
  {
   "cell_type": "code",
   "execution_count": 23,
   "metadata": {},
   "outputs": [],
   "source": [
    "from tkinter import *\n",
    "def click(num):\n",
    "    global op\n",
    "    if num==\"C\":\n",
    "        textinput.set(\"\")\n",
    "    elif num==\"=\":\n",
    "        su=str(eval(op))\n",
    "        textinput.set(su)\n",
    "    else:\n",
    "        op=op+str(num)\n",
    "        textinput.set(op)\n",
    "\n",
    "    \n",
    "windows=Tk()\n",
    "windows.title(\"Calculator\")\n",
    "label=Label(windows,text=\"Calculator\",font=(\"Arial Bold\",50),bg=\"black\",fg=\"white\")\n",
    "windows.configure(background=\"black\")\n",
    "textinput=StringVar()\n",
    "op=\"\"\n",
    "entry=Entry(windows,bd=30,insertwidth=10,justify=\"right\",textvariable=textinput).grid(columnspan=4)\n",
    "bt=Button(windows,padx=8,bd=4,text=\"7\",command=lambda:click(7)).grid(row=1,column=0)\n",
    "bt=Button(windows,padx=8,bd=4,text=\"8\",command=lambda:click(8)).grid(row=1,column=1)\n",
    "bt=Button(windows,padx=8,bd=4,text=\"9\",command=lambda:click(9)).grid(row=1,column=2)\n",
    "bt=Button(windows,padx=8,bd=4,text=\"+\",command=lambda:click(\"+\")).grid(row=1,column=3)\n",
    "bt=Button(windows,padx=8,bd=4,text=\"4\",command=lambda:click(4)).grid(row=2,column=0)\n",
    "bt=Button(windows,padx=8,bd=4,text=\"5\",command=lambda:click(5)).grid(row=2,column=1)\n",
    "bt=Button(windows,padx=8,bd=4,text=\"6\",command=lambda:click(6)).grid(row=2,column=2)\n",
    "bt=Button(windows,padx=8,bd=4,text=\"-\",command=lambda:click(\"-\")).grid(row=2,column=3)\n",
    "bt=Button(windows,padx=8,bd=4,text=\"1\",command=lambda:click(1)).grid(row=3,column=0)\n",
    "bt=Button(windows,padx=8,bd=4,text=\"2\",command=lambda:click(2)).grid(row=3,column=1)\n",
    "bt=Button(windows,padx=8,bd=4,text=\"3\",command=lambda:click(3)).grid(row=3,column=2)\n",
    "bt=Button(windows,padx=8,bd=4,text=\"*\",command=lambda:click(\"*\")).grid(row=3,column=3)\n",
    "bt=Button(windows,padx=8,bd=4,text=\"C\",command=lambda:click(\"C\")).grid(row=4,column=0)\n",
    "bt=Button(windows,padx=8,bd=4,text=\"0\",command=lambda:click(0)).grid(row=4,column=1)\n",
    "bt=Button(windows,padx=8,bd=4,text=\"=\",command=lambda:click(\"=\")).grid(row=4,column=2)\n",
    "bt=Button(windows,padx=8,bd=4,text=\"/\",command=lambda:click(\"/\")).grid(row=4,column=3)\n",
    "\n",
    "windows.mainloop()"
   ]
  },
  {
   "cell_type": "code",
   "execution_count": null,
   "metadata": {},
   "outputs": [],
   "source": []
  },
  {
   "cell_type": "code",
   "execution_count": null,
   "metadata": {},
   "outputs": [],
   "source": []
  },
  {
   "cell_type": "code",
   "execution_count": null,
   "metadata": {},
   "outputs": [],
   "source": []
  },
  {
   "cell_type": "code",
   "execution_count": null,
   "metadata": {},
   "outputs": [],
   "source": []
  },
  {
   "cell_type": "code",
   "execution_count": null,
   "metadata": {},
   "outputs": [],
   "source": []
  },
  {
   "cell_type": "code",
   "execution_count": null,
   "metadata": {},
   "outputs": [],
   "source": []
  }
 ],
 "metadata": {
  "kernelspec": {
   "display_name": "Python 3",
   "language": "python",
   "name": "python3"
  },
  "language_info": {
   "codemirror_mode": {
    "name": "ipython",
    "version": 3
   },
   "file_extension": ".py",
   "mimetype": "text/x-python",
   "name": "python",
   "nbconvert_exporter": "python",
   "pygments_lexer": "ipython3",
   "version": "3.7.6"
  }
 },
 "nbformat": 4,
 "nbformat_minor": 4
}
